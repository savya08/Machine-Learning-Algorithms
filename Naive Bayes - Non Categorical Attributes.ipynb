{
 "cells": [
  {
   "cell_type": "code",
   "execution_count": 1,
   "metadata": {},
   "outputs": [],
   "source": [
    "import numpy as np\n",
    "import pandas as pd\n",
    "import matplotlib.pyplot as plt\n",
    "from sklearn.datasets import load_iris"
   ]
  },
  {
   "cell_type": "code",
   "execution_count": 2,
   "metadata": {},
   "outputs": [
    {
     "data": {
      "text/html": [
       "<div>\n",
       "<style scoped>\n",
       "    .dataframe tbody tr th:only-of-type {\n",
       "        vertical-align: middle;\n",
       "    }\n",
       "\n",
       "    .dataframe tbody tr th {\n",
       "        vertical-align: top;\n",
       "    }\n",
       "\n",
       "    .dataframe thead th {\n",
       "        text-align: right;\n",
       "    }\n",
       "</style>\n",
       "<table border=\"1\" class=\"dataframe\">\n",
       "  <thead>\n",
       "    <tr style=\"text-align: right;\">\n",
       "      <th></th>\n",
       "      <th>sepal length (cm)</th>\n",
       "      <th>sepal width (cm)</th>\n",
       "      <th>petal length (cm)</th>\n",
       "      <th>petal width (cm)</th>\n",
       "      <th>class</th>\n",
       "    </tr>\n",
       "  </thead>\n",
       "  <tbody>\n",
       "    <tr>\n",
       "      <th>0</th>\n",
       "      <td>4.4</td>\n",
       "      <td>2.9</td>\n",
       "      <td>1.4</td>\n",
       "      <td>0.2</td>\n",
       "      <td>0.0</td>\n",
       "    </tr>\n",
       "    <tr>\n",
       "      <th>1</th>\n",
       "      <td>4.6</td>\n",
       "      <td>3.2</td>\n",
       "      <td>1.4</td>\n",
       "      <td>0.2</td>\n",
       "      <td>0.0</td>\n",
       "    </tr>\n",
       "    <tr>\n",
       "      <th>2</th>\n",
       "      <td>5.9</td>\n",
       "      <td>3.0</td>\n",
       "      <td>5.1</td>\n",
       "      <td>1.8</td>\n",
       "      <td>2.0</td>\n",
       "    </tr>\n",
       "    <tr>\n",
       "      <th>3</th>\n",
       "      <td>6.8</td>\n",
       "      <td>3.0</td>\n",
       "      <td>5.5</td>\n",
       "      <td>2.1</td>\n",
       "      <td>2.0</td>\n",
       "    </tr>\n",
       "    <tr>\n",
       "      <th>4</th>\n",
       "      <td>6.3</td>\n",
       "      <td>2.5</td>\n",
       "      <td>4.9</td>\n",
       "      <td>1.5</td>\n",
       "      <td>1.0</td>\n",
       "    </tr>\n",
       "    <tr>\n",
       "      <th>5</th>\n",
       "      <td>6.7</td>\n",
       "      <td>3.3</td>\n",
       "      <td>5.7</td>\n",
       "      <td>2.5</td>\n",
       "      <td>2.0</td>\n",
       "    </tr>\n",
       "    <tr>\n",
       "      <th>6</th>\n",
       "      <td>7.2</td>\n",
       "      <td>3.0</td>\n",
       "      <td>5.8</td>\n",
       "      <td>1.6</td>\n",
       "      <td>2.0</td>\n",
       "    </tr>\n",
       "    <tr>\n",
       "      <th>7</th>\n",
       "      <td>7.7</td>\n",
       "      <td>2.8</td>\n",
       "      <td>6.7</td>\n",
       "      <td>2.0</td>\n",
       "      <td>2.0</td>\n",
       "    </tr>\n",
       "    <tr>\n",
       "      <th>8</th>\n",
       "      <td>4.4</td>\n",
       "      <td>3.2</td>\n",
       "      <td>1.3</td>\n",
       "      <td>0.2</td>\n",
       "      <td>0.0</td>\n",
       "    </tr>\n",
       "    <tr>\n",
       "      <th>9</th>\n",
       "      <td>5.8</td>\n",
       "      <td>2.8</td>\n",
       "      <td>5.1</td>\n",
       "      <td>2.4</td>\n",
       "      <td>2.0</td>\n",
       "    </tr>\n",
       "  </tbody>\n",
       "</table>\n",
       "</div>"
      ],
      "text/plain": [
       "   sepal length (cm)  sepal width (cm)  petal length (cm)  petal width (cm)  \\\n",
       "0                4.4               2.9                1.4               0.2   \n",
       "1                4.6               3.2                1.4               0.2   \n",
       "2                5.9               3.0                5.1               1.8   \n",
       "3                6.8               3.0                5.5               2.1   \n",
       "4                6.3               2.5                4.9               1.5   \n",
       "5                6.7               3.3                5.7               2.5   \n",
       "6                7.2               3.0                5.8               1.6   \n",
       "7                7.7               2.8                6.7               2.0   \n",
       "8                4.4               3.2                1.3               0.2   \n",
       "9                5.8               2.8                5.1               2.4   \n",
       "\n",
       "   class  \n",
       "0    0.0  \n",
       "1    0.0  \n",
       "2    2.0  \n",
       "3    2.0  \n",
       "4    1.0  \n",
       "5    2.0  \n",
       "6    2.0  \n",
       "7    2.0  \n",
       "8    0.0  \n",
       "9    2.0  "
      ]
     },
     "execution_count": 2,
     "metadata": {},
     "output_type": "execute_result"
    }
   ],
   "source": [
    "# loading data\n",
    "iris = load_iris()\n",
    "data = np.hstack((iris.data, np.array(iris.target).reshape((-1, 1))))\n",
    "np.random.shuffle(data)\n",
    "df = pd.DataFrame(data, columns = (iris.feature_names + ['class']))\n",
    "df.head(n = 10)"
   ]
  },
  {
   "cell_type": "code",
   "execution_count": 3,
   "metadata": {},
   "outputs": [
    {
     "data": {
      "image/png": "[encoded data removed]",
      "text/plain": [
       "<Figure size 432x288 with 1 Axes>"
      ]
     },
     "metadata": {},
     "output_type": "display_data"
    },
    {
     "data": {
      "image/png": "[encoded data removed]",
      "text/plain": [
       "<Figure size 432x288 with 1 Axes>"
      ]
     },
     "metadata": {},
     "output_type": "display_data"
    },
    {
     "data": {
      "image/png": "[encoded data removed]",
      "text/plain": [
       "<Figure size 432x288 with 1 Axes>"
      ]
     },
     "metadata": {},
     "output_type": "display_data"
    },
    {
     "data": {
      "image/png": "[encoded data removed]",
      "text/plain": [
       "<Figure size 432x288 with 1 Axes>"
      ]
     },
     "metadata": {},
     "output_type": "display_data"
    }
   ],
   "source": [
    "# visualising distribution of attributes\n",
    "for i in range(df.columns.shape[0] - 1):\n",
    "    plt.hist(df[df.columns[i]], bins = 100)\n",
    "    plt.xlim((df[df.columns[i]].mean() - 6*df[df.columns[i]].std(), df[df.columns[i]].mean() + 6*df[df.columns[i]].std()))\n",
    "    plt.title(df.columns[i])\n",
    "    plt.show()"
   ]
  },
  {
   "cell_type": "code",
   "execution_count": 4,
   "metadata": {},
   "outputs": [],
   "source": [
    "# train-test-split\n",
    "split_factor = 0.85\n",
    "split = int(split_factor*df.shape[0])\n",
    "df_train = df[:split]\n",
    "df_test = df[split:]\n",
    "df_test.index = range(df_test.shape[0])"
   ]
  },
  {
   "cell_type": "code",
   "execution_count": 5,
   "metadata": {},
   "outputs": [],
   "source": [
    "# calculating probabilities and likelihoods\n",
    "prior_prob = {}\n",
    "mean = {}\n",
    "std = {}\n",
    "\n",
    "def set_constants(df):\n",
    "    for label in np.unique(df[df.columns[-1]]):\n",
    "        prob = df[df[df.columns[-1]] == label].shape[0] / df.shape[0]\n",
    "        prior_prob[label] = prob\n",
    "\n",
    "    for attribute in df.columns:\n",
    "        mean[attribute] = np.array(df[attribute]).mean()\n",
    "        std[attribute] = np.array(df[attribute]).std()\n",
    "    \n",
    "def probability(attribute, x):\n",
    "    mu = attribute.mean()\n",
    "    sigma = attribute.std()\n",
    "    prob = np.exp((-1.0*(x - mu)**2) / (2.0*sigma*sigma)) / (sigma*np.sqrt(2.0*np.pi))\n",
    "    return prob\n",
    "\n",
    "def likelihood(df, X, label):\n",
    "    l = 1.0\n",
    "    for ix in range(X.shape[0]):\n",
    "        cond_prob = probability(np.array(df[df[df.columns[-1]] == label][df.columns[ix]]), X[ix])\n",
    "        l *= cond_prob\n",
    "    return l\n",
    "\n",
    "def posterior_likelihood(df, X, label):\n",
    "    post_prob = prior_prob[label]*likelihood(df, X, label)\n",
    "    return post_prob"
   ]
  },
  {
   "cell_type": "code",
   "execution_count": 6,
   "metadata": {},
   "outputs": [],
   "source": [
    "# prediction function - naive bayes algorithm\n",
    "def predict(df, X):\n",
    "    l = []\n",
    "    labels = np.unique(df[df.columns[-1]])\n",
    "    for label in labels:\n",
    "        l.append(posterior_likelihood(df, X, label))\n",
    "    pred = labels[np.array(l).argmax()]\n",
    "    return pred"
   ]
  },
  {
   "cell_type": "code",
   "execution_count": 7,
   "metadata": {},
   "outputs": [],
   "source": [
    "# predicting labels for testing data\n",
    "set_constants(df_train)\n",
    "predictions = []\n",
    "for ix in range(df_test.shape[0]):\n",
    "    X = df_test.loc[ix, df_test.columns[0]:df_test.columns[-2]]\n",
    "    pred = predict(df_train, X)\n",
    "    predictions.append(pred)"
   ]
  },
  {
   "cell_type": "code",
   "execution_count": 8,
   "metadata": {},
   "outputs": [
    {
     "name": "stdout",
     "output_type": "stream",
     "text": [
      "Pedictions:   [1. 1. 0. 0. 1. 0. 2. 2. 1. 0. 2. 1. 0. 0. 0. 2. 0. 0. 0. 1. 0. 1. 1.]\n",
      "True Labels:  [1. 1. 0. 0. 1. 0. 2. 2. 1. 0. 2. 1. 0. 0. 0. 2. 0. 0. 0. 1. 0. 1. 1.]\n",
      "Accuracy Score =  1.0\n"
     ]
    }
   ],
   "source": [
    "# accuracy score\n",
    "def accuracy(predictions, true_labels):\n",
    "    print(\"Pedictions:  \", predictions)\n",
    "    print(\"True Labels: \", true_labels)\n",
    "    accuracy = np.sum(predictions == true_labels) / predictions.shape[0]\n",
    "    return accuracy\n",
    "accuracy_score = accuracy(np.array(predictions), np.array(df_test[df_test.columns[-1]]))\n",
    "print('Accuracy Score = ', accuracy_score)"
   ]
  },
  {
   "cell_type": "code",
   "execution_count": null,
   "metadata": {},
   "outputs": [],
   "source": []
  }
 ],
 "metadata": {
  "kernelspec": {
   "display_name": "Python 3",
   "language": "python",
   "name": "python3"
  },
  "language_info": {
   "codemirror_mode": {
    "name": "ipython",
    "version": 3
   },
   "file_extension": ".py",
   "mimetype": "text/x-python",
   "name": "python",
   "nbconvert_exporter": "python",
   "pygments_lexer": "ipython3",
   "version": "3.6.5"
  }
 },
 "nbformat": 4,
 "nbformat_minor": 2
}
