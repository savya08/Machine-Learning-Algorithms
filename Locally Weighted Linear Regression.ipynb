{
 "cells": [
  {
   "cell_type": "markdown",
   "metadata": {},
   "source": [
    "# Locally Weighted Linear Regression Using Gradient Descent"
   ]
  },
  {
   "cell_type": "code",
   "execution_count": 1,
   "metadata": {},
   "outputs": [],
   "source": [
    "import numpy as np\n",
    "import matplotlib.pyplot as plt"
   ]
  },
  {
   "cell_type": "code",
   "execution_count": 2,
   "metadata": {},
   "outputs": [],
   "source": [
    "# generating data\n",
    "X = np.linspace(-7.0, 7.0, 500)\n",
    "y = 2.0 + X**3 + np.random.rand(X.shape[0])\n",
    "X = X.reshape((-1, 1))\n",
    "y = y.reshape((-1, 1))\n",
    "\n",
    "data = np.hstack((X, y))\n",
    "data = np.hstack((np.ones((data.shape[0], 1)), data))\n",
    "np.random.shuffle(data)"
   ]
  },
  {
   "cell_type": "code",
   "execution_count": 3,
   "metadata": {},
   "outputs": [
    {
     "data": {
      "image/png": "[encoded data removed]",
      "text/plain": [
       "<Figure size 432x288 with 1 Axes>"
      ]
     },
     "metadata": {},
     "output_type": "display_data"
    }
   ],
   "source": [
    "# visualising data\n",
    "plt.scatter(data[:, 1], data[:, -1], marker = '.')\n",
    "plt.show()"
   ]
  },
  {
   "cell_type": "code",
   "execution_count": 4,
   "metadata": {},
   "outputs": [
    {
     "name": "stdout",
     "output_type": "stream",
     "text": [
      "Number of examples in training set = 450\n",
      "Number of examples in testing set = 50\n"
     ]
    }
   ],
   "source": [
    "# train-test-split\n",
    "split_factor = 0.9\n",
    "split = int(split_factor*data.shape[0])\n",
    "\n",
    "X_train = data[:split, :-1]\n",
    "y_train = data[:split, -1].reshape((-1, 1))\n",
    "\n",
    "X_test = data[split: , :-1]\n",
    "y_test = data[split:, -1].reshape((-1, 1))\n",
    "\n",
    "print(\"Number of examples in training set = \" + str(X_train.shape[0]))\n",
    "print(\"Number of examples in testing set = \" + str(X_test.shape[0]))"
   ]
  },
  {
   "cell_type": "code",
   "execution_count": 5,
   "metadata": {},
   "outputs": [],
   "source": [
    "def hypothesis(x, theta):\n",
    "    return np.dot(x, theta)\n",
    "\n",
    "def gradient(x, y, theta):\n",
    "    h = hypothesis(x, theta)\n",
    "    grad = np.dot(x.transpose(), (h - y))\n",
    "    return grad\n",
    "\n",
    "def cost(x, y, theta):\n",
    "    h = hypothesis(x, theta)\n",
    "    J = np.dot((h - y).transpose(), (h - y))\n",
    "    J /= 2\n",
    "    return J\n",
    "    \n",
    "def weight(x, x_test, t):\n",
    "    dist = np.linalg.norm(x - x_test)\n",
    "    w = np.exp((-1.0*(dist**2)) / (2.0*(t**2)))\n",
    "    return w\n",
    "\n",
    "def predict(X, y, x_test, u = 0.01, t = 0.05):\n",
    "    theta = np.zeros((X.shape[1], 1))\n",
    "    error_list = []\n",
    "    max_itr = 750\n",
    "    for itr in range(max_itr):\n",
    "        theta_temp = theta\n",
    "        for i in range(X.shape[0]):\n",
    "            x = X[i, :].reshape((1, -1))\n",
    "            w = weight(x, x_test, t)\n",
    "            theta_temp = theta_temp - u*w*gradient(x, y[i], theta)\n",
    "        theta = theta_temp\n",
    "        error_list.append(cost(X, y, theta)[0])\n",
    "    pred = hypothesis(x_test, theta)[0]\n",
    "    return pred, error_list"
   ]
  },
  {
   "cell_type": "code",
   "execution_count": 6,
   "metadata": {},
   "outputs": [
    {
     "name": "stdout",
     "output_type": "stream",
     "text": [
      "y_pred = -56.327    y_test = -56.042\n",
      "y_pred = -0.010    y_test = 0.076\n",
      "y_pred = 4.370    y_test = 4.055\n",
      "y_pred = -69.939    y_test = -70.119\n",
      "y_pred = 2.974    y_test = 2.645\n",
      "y_pred = -1.202    y_test = -0.445\n",
      "y_pred = 2.048    y_test = 2.430\n",
      "y_pred = -53.487    y_test = -54.037\n",
      "y_pred = -8.447    y_test = -8.585\n",
      "y_pred = -5.770    y_test = -5.273\n"
     ]
    }
   ],
   "source": [
    "# computing y_pred\n",
    "y_pred = []\n",
    "for i in range(X_test.shape[0]):\n",
    "    x_test = X_test[i, :].reshape((1, -1))\n",
    "    pred, error_list = predict(X_train, y_train, x_test)\n",
    "    y_pred.append(pred)\n",
    "    if i % 5 == 0:\n",
    "        print(\"y_pred = %.3f\"%(pred[0]) + \"    y_test = %.3f\"%(y_test[i][0]))\n",
    "y_pred = np.array(y_pred).reshape((-1, 1))"
   ]
  },
  {
   "cell_type": "code",
   "execution_count": 7,
   "metadata": {},
   "outputs": [
    {
     "name": "stdout",
     "output_type": "stream",
     "text": [
      "Mean absolute error =  0.30572127677413274\n"
     ]
    }
   ],
   "source": [
    "# calculating error in predictions\n",
    "error = np.sum(np.abs(y_test - y_pred) / y_test.shape[0])\n",
    "print(\"Mean absolute error = \", error)"
   ]
  },
  {
   "cell_type": "code",
   "execution_count": 8,
   "metadata": {},
   "outputs": [
    {
     "data": {
      "image/png": "[encoded data removed]",
      "text/plain": [
       "<Figure size 432x288 with 1 Axes>"
      ]
     },
     "metadata": {},
     "output_type": "display_data"
    }
   ],
   "source": [
    "# plot prediction\n",
    "X_temp = np.linspace(-7.0, 7.0, 20).reshape(-1, 1)\n",
    "X_plot = np.hstack((np.ones((X_temp.shape[0], 1)), X_temp))\n",
    "y_plot = []\n",
    "for i in range(X_plot.shape[0]):\n",
    "    x = X_plot[i].reshape((1, -1))\n",
    "    y, _ = predict(X_train, y_train, x)\n",
    "    y_plot.append(y)\n",
    "y_plot = np.array(y_plot).reshape((-1, 1))\n",
    "plt.scatter(data[:, 1], data[:, -1], marker = '.', label = \"Generated Data\")\n",
    "plt.scatter(X_plot[:, 1], y_plot, color = \"red\", label = \"Prediction\")\n",
    "plt.legend()\n",
    "plt.show()"
   ]
  },
  {
   "cell_type": "markdown",
   "metadata": {},
   "source": [
    "# Locally Weighted Linear Regression Using Closed Form Solution"
   ]
  },
  {
   "cell_type": "code",
   "execution_count": 9,
   "metadata": {},
   "outputs": [],
   "source": [
    "def weights(X, x_test, t):\n",
    "    dist = np.linalg.norm(X - x_test, axis = 1)\n",
    "    m = X.shape[0]\n",
    "    W = np.zeros((m, m))\n",
    "    for i in range(m):\n",
    "        W[i][i] = np.exp((-1.0*(dist[i]**2)) / (2.0*(t**2)))\n",
    "    return W\n",
    "\n",
    "def predict(X, y, x_test, t = 0.05):\n",
    "    W = weights(X, x_test, t)\n",
    "    X = np.mat(X)\n",
    "    Y = np.mat(y)\n",
    "    W = np.mat(W)\n",
    "    theta = np.linalg.pinv(X.T*W*X)*X.T*W*Y\n",
    "    pred = hypothesis(x_test, theta)\n",
    "    return pred"
   ]
  },
  {
   "cell_type": "code",
   "execution_count": 10,
   "metadata": {},
   "outputs": [
    {
     "name": "stdout",
     "output_type": "stream",
     "text": [
      "y_pred = -55.958    y_test = -56.042\n",
      "y_pred = -0.070    y_test = 0.076\n",
      "y_pred = 4.369    y_test = 4.055\n",
      "y_pred = -69.915    y_test = -70.119\n",
      "y_pred = 3.007    y_test = 2.645\n",
      "y_pred = -1.116    y_test = -0.445\n",
      "y_pred = 2.050    y_test = 2.430\n",
      "y_pred = -53.564    y_test = -54.037\n",
      "y_pred = -8.554    y_test = -8.585\n",
      "y_pred = -5.674    y_test = -5.273\n"
     ]
    }
   ],
   "source": [
    "y_pred = []\n",
    "for i in range(X_test.shape[0]):\n",
    "    x_test = X_test[i].reshape((1, -1))\n",
    "    pred = predict(X_train, y_train, x_test)\n",
    "    y_pred.append(pred[0])\n",
    "    if i % 5 == 0:\n",
    "        print(\"y_pred = %.3f\"%(pred[0]) + \"    y_test = %.3f\"%(y_test[i][0]))\n",
    "y_pred = np.array(y_pred).reshape((-1, 1))"
   ]
  },
  {
   "cell_type": "code",
   "execution_count": 11,
   "metadata": {},
   "outputs": [
    {
     "name": "stdout",
     "output_type": "stream",
     "text": [
      "Mean absolute error =  0.25006753346597593\n"
     ]
    }
   ],
   "source": [
    "# calculating error in predictions\n",
    "error = np.sum(np.abs(y_test - y_pred) / y_test.shape[0])\n",
    "print(\"Mean absolute error = \", error)"
   ]
  },
  {
   "cell_type": "code",
   "execution_count": 12,
   "metadata": {},
   "outputs": [
    {
     "data": {
      "image/png": "[encoded data removed]",
      "text/plain": [
       "<Figure size 432x288 with 1 Axes>"
      ]
     },
     "metadata": {},
     "output_type": "display_data"
    }
   ],
   "source": [
    "# plot prediction\n",
    "X_temp = np.linspace(-7.0, 7.0, 20).reshape(-1, 1)\n",
    "X_plot = np.hstack((np.ones((X_temp.shape[0], 1)), X_temp))\n",
    "y_plot = []\n",
    "for i in range(X_plot.shape[0]):\n",
    "    x = X_plot[i].reshape((1, -1))\n",
    "    y = predict(X_train, y_train, x)\n",
    "    y_plot.append(y)\n",
    "plt.scatter(data[:, 1], data[:, -1], marker = '.', label = \"Generated Data\")\n",
    "plt.scatter(X_plot[:, 1], y_plot, color = \"red\", label = \"Prediction\")\n",
    "plt.legend()\n",
    "plt.show()"
   ]
  },
  {
   "cell_type": "code",
   "execution_count": null,
   "metadata": {},
   "outputs": [],
   "source": []
  }
 ],
 "metadata": {
  "kernelspec": {
   "display_name": "Python 3",
   "language": "python",
   "name": "python3"
  },
  "language_info": {
   "codemirror_mode": {
    "name": "ipython",
    "version": 3
   },
   "file_extension": ".py",
   "mimetype": "text/x-python",
   "name": "python",
   "nbconvert_exporter": "python",
   "pygments_lexer": "ipython3",
   "version": "3.6.5"
  }
 },
 "nbformat": 4,
 "nbformat_minor": 2
}
