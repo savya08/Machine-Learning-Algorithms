{
 "cells": [
  {
   "cell_type": "markdown",
   "metadata": {},
   "source": [
    "# Locally Weighted Linear Regression"
   ]
  },
  {
   "cell_type": "code",
   "execution_count": 1,
   "metadata": {},
   "outputs": [],
   "source": [
    "import numpy as np\n",
    "import matplotlib.pyplot as plt\n",
    "from sklearn.datasets import make_moons"
   ]
  },
  {
   "cell_type": "code",
   "execution_count": 2,
   "metadata": {},
   "outputs": [],
   "source": [
    "# generating data\n",
    "X = np.linspace(-7.0, 7.0, 500)\n",
    "y = 2.0 + X**2 + np.random.rand(X.shape[0])\n",
    "X = X.reshape((-1, 1))\n",
    "y = y.reshape((-1, 1))\n",
    "\n",
    "data = np.hstack((X, y))\n",
    "data = np.hstack((np.ones((data.shape[0], 1)), data))\n",
    "np.random.shuffle(data)"
   ]
  },
  {
   "cell_type": "code",
   "execution_count": 3,
   "metadata": {},
   "outputs": [
    {
     "data": {
      "image/png": "[encoded data removed]",
      "text/plain": [
       "<Figure size 432x288 with 1 Axes>"
      ]
     },
     "metadata": {},
     "output_type": "display_data"
    }
   ],
   "source": [
    "# visualising data\n",
    "plt.scatter(data[:, 1], data[:, -1], marker = '.')\n",
    "plt.show()"
   ]
  },
  {
   "cell_type": "code",
   "execution_count": 4,
   "metadata": {},
   "outputs": [
    {
     "name": "stdout",
     "output_type": "stream",
     "text": [
      "Number of examples in training set = 450\n",
      "Number of examples in testing set = 50\n"
     ]
    }
   ],
   "source": [
    "# train-test-split\n",
    "split_factor = 0.9\n",
    "split = int(split_factor*data.shape[0])\n",
    "\n",
    "X_train = data[:split, :-1]\n",
    "y_train = data[:split, -1].reshape((-1, 1))\n",
    "\n",
    "X_test = data[split: , :-1]\n",
    "y_test = data[split:, -1].reshape((-1, 1))\n",
    "\n",
    "print(\"Number of examples in training set = \" + str(X_train.shape[0]))\n",
    "print(\"Number of examples in testing set = \" + str(X_test.shape[0]))"
   ]
  },
  {
   "cell_type": "code",
   "execution_count": 5,
   "metadata": {},
   "outputs": [],
   "source": [
    "def hypothesis(x, theta):\n",
    "    return np.dot(x, theta)\n",
    "\n",
    "def gradient(x, y, theta):\n",
    "    h = hypothesis(x, theta)\n",
    "    grad = np.dot(x.transpose(), (h - y))\n",
    "    return grad\n",
    "\n",
    "def cost(x, y, theta):\n",
    "    h = hypothesis(x, theta)\n",
    "    J = np.dot((h - y).transpose(), (h - y))\n",
    "    J /= 2\n",
    "    return J\n",
    "    \n",
    "def weight(x, x_test):\n",
    "    dist = np.linalg.norm(x - x_test)\n",
    "    t = 0.5\n",
    "    w = np.exp((-1.0*(dist**2)) / (2.0*(t**2)))\n",
    "    return w\n",
    "\n",
    "def plotHypothesis(x, pred, theta):\n",
    "    x_plot = np.linspace(x[0, 1] - 2, x[0, 1] + 2, 5)\n",
    "    y_plot = theta[0, 0] + theta[1, 0]*x_plot\n",
    "    plt.plot(x_plot, y_plot)\n",
    "    plt.scatter(x[0, 1], pred, color = 'red')\n",
    "    plt.scatter(X_train[:, 1], y_train, marker = '.')\n",
    "    plt.show()\n",
    "\n",
    "def predict(X, y, x_test, u = 0.03):\n",
    "    theta = np.zeros((X.shape[1], 1))\n",
    "    error_list = []\n",
    "    max_itr = 500\n",
    "    for itr in range(max_itr):\n",
    "        theta_temp = theta\n",
    "        for i in range(X.shape[0]):\n",
    "            x = X[i, :].reshape((1, -1))\n",
    "            w = weight(x, x_test)\n",
    "            theta_temp = theta_temp - u*w*gradient(x, y[i], theta_temp)\n",
    "        theta = theta_temp\n",
    "        error_list.append(cost(X, y, theta)[0])\n",
    "    pred = hypothesis(x_test, theta)[0]\n",
    "    return pred, error_list"
   ]
  },
  {
   "cell_type": "code",
   "execution_count": 6,
   "metadata": {},
   "outputs": [
    {
     "name": "stdout",
     "output_type": "stream",
     "text": [
      "y_pred = 5.400    y_test = 5.093\n",
      "y_pred = 36.547    y_test = 36.270\n",
      "y_pred = 18.552    y_test = 17.903\n",
      "y_pred = 35.282    y_test = 34.665\n",
      "y_pred = 17.638    y_test = 17.658\n",
      "y_pred = 31.372    y_test = 30.451\n",
      "y_pred = 15.667    y_test = 15.014\n",
      "y_pred = 40.193    y_test = 40.154\n",
      "y_pred = 10.682    y_test = 10.408\n",
      "y_pred = 12.436    y_test = 12.189\n"
     ]
    }
   ],
   "source": [
    "# computing y_pred\n",
    "y_pred = []\n",
    "for i in range(X_test.shape[0]):\n",
    "    x_test = X_test[i, :].reshape((1, -1))\n",
    "    pred, error_list = predict(X_train, y_train, x_test)\n",
    "    y_pred.append(pred)\n",
    "    if i % 5 == 0:\n",
    "        print(\"y_pred = %.3f\"%(pred[0]) + \"    y_test = %.3f\"%(y_test[i][0]))\n",
    "y_pred = np.array(y_pred).reshape((-1, 1))"
   ]
  },
  {
   "cell_type": "code",
   "execution_count": 7,
   "metadata": {},
   "outputs": [
    {
     "name": "stdout",
     "output_type": "stream",
     "text": [
      "Mean absolute error =  0.3404119354474945\n"
     ]
    }
   ],
   "source": [
    "# calculating error in predictions\n",
    "error = np.sum(np.abs(y_test - y_pred) / y_test.shape[0])\n",
    "print(\"Mean absolute error = \", error)"
   ]
  },
  {
   "cell_type": "code",
   "execution_count": null,
   "metadata": {},
   "outputs": [],
   "source": []
  }
 ],
 "metadata": {
  "kernelspec": {
   "display_name": "Python 3",
   "language": "python",
   "name": "python3"
  },
  "language_info": {
   "codemirror_mode": {
    "name": "ipython",
    "version": 3
   },
   "file_extension": ".py",
   "mimetype": "text/x-python",
   "name": "python",
   "nbconvert_exporter": "python",
   "pygments_lexer": "ipython3",
   "version": "3.6.5"
  }
 },
 "nbformat": 4,
 "nbformat_minor": 2
}
