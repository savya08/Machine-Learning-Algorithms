{
 "cells": [
  {
   "cell_type": "code",
   "execution_count": 1,
   "metadata": {},
   "outputs": [],
   "source": [
    "import numpy as np\n",
    "import matplotlib.pyplot as plt\n",
    "from sklearn.datasets import make_regression"
   ]
  },
  {
   "cell_type": "code",
   "execution_count": 39,
   "metadata": {},
   "outputs": [],
   "source": [
    "# generating data\n",
    "X = np.linspace(1.0, 7.0, 500)\n",
    "y = 2.0 + X**2 + 5*np.random.rand(X.shape[0])\n",
    "X = X.reshape((-1, 1))\n",
    "y = y.reshape((-1, 1))\n",
    "\n",
    "data = np.hstack((X, y))\n",
    "data = np.hstack((np.ones((data.shape[0], 1)), data))\n",
    "np.random.shuffle(data)"
   ]
  },
  {
   "cell_type": "code",
   "execution_count": 40,
   "metadata": {},
   "outputs": [
    {
     "data": {
      "image/png": "[encoded data removed]",
      "text/plain": [
       "<Figure size 432x288 with 1 Axes>"
      ]
     },
     "metadata": {},
     "output_type": "display_data"
    }
   ],
   "source": [
    "# visualising data\n",
    "plt.scatter(data[:, 1], data[:, -1], marker = '.')\n",
    "plt.show()"
   ]
  },
  {
   "cell_type": "code",
   "execution_count": 41,
   "metadata": {},
   "outputs": [],
   "source": [
    "# train-test-split\n",
    "split_factor = 0.85\n",
    "split = int(split_factor*data.shape[0])\n",
    "\n",
    "X_train = data[:split, :-1]\n",
    "y_train = data[:split, -1].reshape((-1, 1))\n",
    "\n",
    "X_test = data[split: , :-1]\n",
    "y_test = data[split:, -1].reshape((-1, 1))"
   ]
  },
  {
   "cell_type": "code",
   "execution_count": 76,
   "metadata": {},
   "outputs": [],
   "source": [
    "def hypothesis(x, theta):\n",
    "    return np.dot(x, theta)\n",
    "\n",
    "def gradient(x, y, theta):\n",
    "    h = hypothesis(x, theta)\n",
    "    grad = np.dot(x.transpose(), (h - y))\n",
    "    return grad\n",
    "\n",
    "def distance(x, x_test):\n",
    "    dist = np.sqrt(np.sum((x - x_test)**2))\n",
    "    return dist\n",
    "\n",
    "def weight(x, x_test):\n",
    "    dist = distance(x, x_test)\n",
    "    t = 0.5\n",
    "    w = np.exp((-1.0*(dist**2)) / (2.0*(t**2)))\n",
    "    return w\n",
    "\n",
    "def plotHypothesis(x, pred, theta):\n",
    "    x_plot = np.linspace(x[0, 1] - 2, x[0, 1] + 2, 5)\n",
    "    y_plot = theta[0, 0] + theta[1, 0]*x_plot\n",
    "    plt.plot(x_plot, y_plot)\n",
    "    plt.scatter(x[0, 1], pred, color = 'red')\n",
    "    plt.scatter(X_train[:, 1], y_train, marker = '.')\n",
    "    plt.show()\n",
    "\n",
    "def predict(X, y, x_test, u = 10):\n",
    "    theta = np.zeros((X.shape[1], 1))\n",
    "    max_itr = 100\n",
    "    for itr in range(max_itr):\n",
    "        temp = np.zeros(theta.shape)\n",
    "        for i in range(X.shape[0]):\n",
    "            x = X[i, :].reshape((1, -1))\n",
    "            w = weight(x, x_test)\n",
    "            temp = theta - u*w*gradient(x, y[i], theta)\n",
    "        theta = temp\n",
    "    pred = hypothesis(x_test, theta)\n",
    "    #plotHypothesis(x_test, pred, theta)\n",
    "    print(theta)\n",
    "    return pred"
   ]
  },
  {
   "cell_type": "code",
   "execution_count": 78,
   "metadata": {},
   "outputs": [
    {
     "name": "stdout",
     "output_type": "stream",
     "text": [
      "[[1.         1.01202405]]\n",
      "[[3.79901661e-14]\n",
      " [2.11115693e-13]]\n",
      "[[2.51644324e-13]] [3.55208374]\n"
     ]
    }
   ],
   "source": [
    "for i in range(1, 2):\n",
    "    x_test = X_test[i, :].reshape((1, -1))\n",
    "    print(x_test)\n",
    "    pred = predict(X_train, y_train, x_test)\n",
    "    print(pred, y_test[i])"
   ]
  },
  {
   "cell_type": "code",
   "execution_count": null,
   "metadata": {},
   "outputs": [],
   "source": []
  }
 ],
 "metadata": {
  "kernelspec": {
   "display_name": "Python 3",
   "language": "python",
   "name": "python3"
  },
  "language_info": {
   "codemirror_mode": {
    "name": "ipython",
    "version": 3
   },
   "file_extension": ".py",
   "mimetype": "text/x-python",
   "name": "python",
   "nbconvert_exporter": "python",
   "pygments_lexer": "ipython3",
   "version": "3.6.5"
  }
 },
 "nbformat": 4,
 "nbformat_minor": 2
}
