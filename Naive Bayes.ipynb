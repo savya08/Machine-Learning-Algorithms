{
 "cells": [
  {
   "cell_type": "code",
   "execution_count": 1,
   "metadata": {},
   "outputs": [],
   "source": [
    "import numpy as np\n",
    "import pandas as pd\n",
    "import matplotlib.pyplot as plt\n",
    "from sklearn.preprocessing import LabelEncoder"
   ]
  },
  {
   "cell_type": "code",
   "execution_count": 2,
   "metadata": {},
   "outputs": [
    {
     "data": {
      "text/html": [
       "<div>\n",
       "<style scoped>\n",
       "    .dataframe tbody tr th:only-of-type {\n",
       "        vertical-align: middle;\n",
       "    }\n",
       "\n",
       "    .dataframe tbody tr th {\n",
       "        vertical-align: top;\n",
       "    }\n",
       "\n",
       "    .dataframe thead th {\n",
       "        text-align: right;\n",
       "    }\n",
       "</style>\n",
       "<table border=\"1\" class=\"dataframe\">\n",
       "  <thead>\n",
       "    <tr style=\"text-align: right;\">\n",
       "      <th></th>\n",
       "      <th>Outlook</th>\n",
       "      <th>Temperature</th>\n",
       "      <th>Humidity</th>\n",
       "      <th>Windy</th>\n",
       "      <th>Play</th>\n",
       "    </tr>\n",
       "  </thead>\n",
       "  <tbody>\n",
       "    <tr>\n",
       "      <th>0</th>\n",
       "      <td>sunny</td>\n",
       "      <td>hot</td>\n",
       "      <td>high</td>\n",
       "      <td>yes</td>\n",
       "      <td>no</td>\n",
       "    </tr>\n",
       "    <tr>\n",
       "      <th>1</th>\n",
       "      <td>sunny</td>\n",
       "      <td>hot</td>\n",
       "      <td>high</td>\n",
       "      <td>no</td>\n",
       "      <td>no</td>\n",
       "    </tr>\n",
       "    <tr>\n",
       "      <th>2</th>\n",
       "      <td>overcast</td>\n",
       "      <td>hot</td>\n",
       "      <td>high</td>\n",
       "      <td>no</td>\n",
       "      <td>yes</td>\n",
       "    </tr>\n",
       "    <tr>\n",
       "      <th>3</th>\n",
       "      <td>rainy</td>\n",
       "      <td>mild</td>\n",
       "      <td>high</td>\n",
       "      <td>no</td>\n",
       "      <td>yes</td>\n",
       "    </tr>\n",
       "    <tr>\n",
       "      <th>4</th>\n",
       "      <td>rainy</td>\n",
       "      <td>cool</td>\n",
       "      <td>normal</td>\n",
       "      <td>no</td>\n",
       "      <td>yes</td>\n",
       "    </tr>\n",
       "    <tr>\n",
       "      <th>5</th>\n",
       "      <td>rainy</td>\n",
       "      <td>cool</td>\n",
       "      <td>normal</td>\n",
       "      <td>yes</td>\n",
       "      <td>no</td>\n",
       "    </tr>\n",
       "    <tr>\n",
       "      <th>6</th>\n",
       "      <td>overcast</td>\n",
       "      <td>cool</td>\n",
       "      <td>normal</td>\n",
       "      <td>yes</td>\n",
       "      <td>yes</td>\n",
       "    </tr>\n",
       "    <tr>\n",
       "      <th>7</th>\n",
       "      <td>sunny</td>\n",
       "      <td>mild</td>\n",
       "      <td>high</td>\n",
       "      <td>no</td>\n",
       "      <td>no</td>\n",
       "    </tr>\n",
       "    <tr>\n",
       "      <th>8</th>\n",
       "      <td>sunny</td>\n",
       "      <td>cool</td>\n",
       "      <td>normal</td>\n",
       "      <td>no</td>\n",
       "      <td>yes</td>\n",
       "    </tr>\n",
       "    <tr>\n",
       "      <th>9</th>\n",
       "      <td>rainy</td>\n",
       "      <td>mild</td>\n",
       "      <td>normal</td>\n",
       "      <td>no</td>\n",
       "      <td>yes</td>\n",
       "    </tr>\n",
       "    <tr>\n",
       "      <th>10</th>\n",
       "      <td>sunny</td>\n",
       "      <td>mild</td>\n",
       "      <td>normal</td>\n",
       "      <td>yes</td>\n",
       "      <td>yes</td>\n",
       "    </tr>\n",
       "    <tr>\n",
       "      <th>11</th>\n",
       "      <td>overcast</td>\n",
       "      <td>mild</td>\n",
       "      <td>high</td>\n",
       "      <td>yes</td>\n",
       "      <td>yes</td>\n",
       "    </tr>\n",
       "    <tr>\n",
       "      <th>12</th>\n",
       "      <td>overcast</td>\n",
       "      <td>hot</td>\n",
       "      <td>normal</td>\n",
       "      <td>no</td>\n",
       "      <td>yes</td>\n",
       "    </tr>\n",
       "    <tr>\n",
       "      <th>13</th>\n",
       "      <td>rainy</td>\n",
       "      <td>mild</td>\n",
       "      <td>high</td>\n",
       "      <td>yes</td>\n",
       "      <td>no</td>\n",
       "    </tr>\n",
       "  </tbody>\n",
       "</table>\n",
       "</div>"
      ],
      "text/plain": [
       "     Outlook Temperature Humidity Windy Play\n",
       "0      sunny         hot     high   yes   no\n",
       "1      sunny         hot     high    no   no\n",
       "2   overcast         hot     high    no  yes\n",
       "3      rainy        mild     high    no  yes\n",
       "4      rainy        cool   normal    no  yes\n",
       "5      rainy        cool   normal   yes   no\n",
       "6   overcast        cool   normal   yes  yes\n",
       "7      sunny        mild     high    no   no\n",
       "8      sunny        cool   normal    no  yes\n",
       "9      rainy        mild   normal    no  yes\n",
       "10     sunny        mild   normal   yes  yes\n",
       "11  overcast        mild     high   yes  yes\n",
       "12  overcast         hot   normal    no  yes\n",
       "13     rainy        mild     high   yes   no"
      ]
     },
     "execution_count": 2,
     "metadata": {},
     "output_type": "execute_result"
    }
   ],
   "source": [
    "# loading sample data\n",
    "df = pd.read_csv('~/Documents/sample.csv')\n",
    "df.head(n = df.shape[0])"
   ]
  },
  {
   "cell_type": "code",
   "execution_count": 3,
   "metadata": {},
   "outputs": [],
   "source": [
    "# finding the posterior likelihood of the hypothesis\n",
    "def posterior_likelihood(df, X, label):\n",
    "    prior_prob = df[df['Play'] == label].shape[0] / df.shape[0]\n",
    "    post_prob = prior_prob*likelihood(df, X, label)\n",
    "    return post_prob\n",
    "\n",
    "def likelihood(df, X, label):\n",
    "    l = 1.0\n",
    "    for ix in range(X.shape[0]):\n",
    "        conditional_prob = df[(df[df.columns[ix]] == X[ix]) & (df['Play'] == label)].shape[0] / df[df['Play'] == label].shape[0]\n",
    "        # lagrange correction \n",
    "        if conditional_prob == 0.0:\n",
    "            conditional_prob = 1.0 / (df[df['Play'] == label].shape[0] + np.unique(df[df.columns[ix]]).shape[0])\n",
    "        l *= conditional_prob\n",
    "    return l"
   ]
  },
  {
   "cell_type": "code",
   "execution_count": 4,
   "metadata": {},
   "outputs": [],
   "source": [
    "# predict function - naive bayes algorithm\n",
    "def predict(df, X):\n",
    "    likelihoods = []\n",
    "    labels = np.unique(df['Play'])\n",
    "    for label in labels:\n",
    "        likelihoods.append(posterior_likelihood(df, X, label))\n",
    "    pred = labels[np.array(likelihoods).argmax()]\n",
    "    return pred, likelihoods"
   ]
  },
  {
   "cell_type": "code",
   "execution_count": 5,
   "metadata": {},
   "outputs": [
    {
     "name": "stdout",
     "output_type": "stream",
     "text": [
      "X_test =  ['sunny' 'cool' 'high' 'yes']\n",
      "\n",
      "Likelihood of 'no' =  0.02057142857142857\n",
      "Likelihood of 'yes' =  0.005291005291005291\n",
      "\n",
      "Prediction =  no\n"
     ]
    }
   ],
   "source": [
    "# predicting output for X_test_01\n",
    "X_test_01 = np.array(['sunny', 'cool', 'high', 'yes'])\n",
    "pred, likelihoods = predict(df, X_test_01)\n",
    "print('X_test = ', X_test_01)\n",
    "print()\n",
    "print('Likelihood of \\'no\\' = ', likelihoods[0])\n",
    "print('Likelihood of \\'yes\\' = ', likelihoods[1])\n",
    "print()\n",
    "print('Prediction = ', pred)"
   ]
  },
  {
   "cell_type": "code",
   "execution_count": 6,
   "metadata": {},
   "outputs": [
    {
     "name": "stdout",
     "output_type": "stream",
     "text": [
      "X_test =  ['rainy' 'mild' 'normal' 'no']\n",
      "\n",
      "Likelihood of 'no' =  0.004571428571428573\n",
      "Likelihood of 'yes' =  0.042328042328042326\n",
      "\n",
      "Prediction =  yes\n"
     ]
    }
   ],
   "source": [
    "# predicting output for X_test_02\n",
    "X_test_02 = np.array(['rainy', 'mild', 'normal', 'no'])\n",
    "pred, likelihoods = predict(df, X_test_02)\n",
    "print('X_test = ', X_test_02)\n",
    "print()\n",
    "print('Likelihood of \\'no\\' = ', likelihoods[0])\n",
    "print('Likelihood of \\'yes\\' = ', likelihoods[1])\n",
    "print()\n",
    "print('Prediction = ', pred)"
   ]
  },
  {
   "cell_type": "code",
   "execution_count": 7,
   "metadata": {},
   "outputs": [
    {
     "name": "stdout",
     "output_type": "stream",
     "text": [
      "X_test =  ['overcast' 'mild' 'normal' 'no']\n",
      "\n",
      "Likelihood of 'no' =  0.001428571428571429\n",
      "Likelihood of 'yes' =  0.056437389770723094\n",
      "\n",
      "Prediction =  yes\n"
     ]
    }
   ],
   "source": [
    "# predicting output for X_test_03\n",
    "X_test_03 = np.array(['overcast', 'mild', 'normal', 'no'])\n",
    "pred, likelihoods = predict(df, X_test_03)\n",
    "print('X_test = ', X_test_03)\n",
    "print()\n",
    "print('Likelihood of \\'no\\' = ', likelihoods[0])\n",
    "print('Likelihood of \\'yes\\' = ', likelihoods[1])\n",
    "print()\n",
    "print('Prediction = ', pred)"
   ]
  },
  {
   "cell_type": "code",
   "execution_count": null,
   "metadata": {},
   "outputs": [],
   "source": []
  }
 ],
 "metadata": {
  "kernelspec": {
   "display_name": "Python 3",
   "language": "python",
   "name": "python3"
  },
  "language_info": {
   "codemirror_mode": {
    "name": "ipython",
    "version": 3
   },
   "file_extension": ".py",
   "mimetype": "text/x-python",
   "name": "python",
   "nbconvert_exporter": "python",
   "pygments_lexer": "ipython3",
   "version": "3.6.5"
  }
 },
 "nbformat": 4,
 "nbformat_minor": 2
}
